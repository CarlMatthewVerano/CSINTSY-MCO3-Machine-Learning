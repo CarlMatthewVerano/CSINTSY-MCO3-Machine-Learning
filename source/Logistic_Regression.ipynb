{
 "cells": [
  {
   "cell_type": "code",
   "execution_count": 1,
   "id": "f184632a",
   "metadata": {},
   "outputs": [],
   "source": [
    "import pandas as pd"
   ]
  },
  {
   "cell_type": "markdown",
   "id": "cd10746d",
   "metadata": {},
   "source": [
    "# Read Dataset\n"
   ]
  },
  {
   "cell_type": "code",
   "execution_count": 2,
   "id": "c25e70ba",
   "metadata": {},
   "outputs": [],
   "source": [
    "df = pd.read_csv('/Users/hanzpatrickyu/Documents/Jupyter/Fetal_Health/fetal_health.csv')"
   ]
  },
  {
   "cell_type": "code",
   "execution_count": 3,
   "id": "b7f80f1e",
   "metadata": {},
   "outputs": [
    {
     "data": {
      "text/html": [
       "<div>\n",
       "<style scoped>\n",
       "    .dataframe tbody tr th:only-of-type {\n",
       "        vertical-align: middle;\n",
       "    }\n",
       "\n",
       "    .dataframe tbody tr th {\n",
       "        vertical-align: top;\n",
       "    }\n",
       "\n",
       "    .dataframe thead th {\n",
       "        text-align: right;\n",
       "    }\n",
       "</style>\n",
       "<table border=\"1\" class=\"dataframe\">\n",
       "  <thead>\n",
       "    <tr style=\"text-align: right;\">\n",
       "      <th></th>\n",
       "      <th>baseline value</th>\n",
       "      <th>accelerations</th>\n",
       "      <th>fetal_movement</th>\n",
       "      <th>uterine_contractions</th>\n",
       "      <th>light_decelerations</th>\n",
       "      <th>severe_decelerations</th>\n",
       "      <th>prolongued_decelerations</th>\n",
       "      <th>abnormal_short_term_variability</th>\n",
       "      <th>mean_value_of_short_term_variability</th>\n",
       "      <th>percentage_of_time_with_abnormal_long_term_variability</th>\n",
       "      <th>...</th>\n",
       "      <th>histogram_min</th>\n",
       "      <th>histogram_max</th>\n",
       "      <th>histogram_number_of_peaks</th>\n",
       "      <th>histogram_number_of_zeroes</th>\n",
       "      <th>histogram_mode</th>\n",
       "      <th>histogram_mean</th>\n",
       "      <th>histogram_median</th>\n",
       "      <th>histogram_variance</th>\n",
       "      <th>histogram_tendency</th>\n",
       "      <th>fetal_health</th>\n",
       "    </tr>\n",
       "  </thead>\n",
       "  <tbody>\n",
       "    <tr>\n",
       "      <th>0</th>\n",
       "      <td>120.0</td>\n",
       "      <td>0.000</td>\n",
       "      <td>0.000</td>\n",
       "      <td>0.000</td>\n",
       "      <td>0.000</td>\n",
       "      <td>0.0</td>\n",
       "      <td>0.0</td>\n",
       "      <td>73.0</td>\n",
       "      <td>0.5</td>\n",
       "      <td>43.0</td>\n",
       "      <td>...</td>\n",
       "      <td>62.0</td>\n",
       "      <td>126.0</td>\n",
       "      <td>2.0</td>\n",
       "      <td>0.0</td>\n",
       "      <td>120.0</td>\n",
       "      <td>137.0</td>\n",
       "      <td>121.0</td>\n",
       "      <td>73.0</td>\n",
       "      <td>1.0</td>\n",
       "      <td>2.0</td>\n",
       "    </tr>\n",
       "    <tr>\n",
       "      <th>1</th>\n",
       "      <td>132.0</td>\n",
       "      <td>0.006</td>\n",
       "      <td>0.000</td>\n",
       "      <td>0.006</td>\n",
       "      <td>0.003</td>\n",
       "      <td>0.0</td>\n",
       "      <td>0.0</td>\n",
       "      <td>17.0</td>\n",
       "      <td>2.1</td>\n",
       "      <td>0.0</td>\n",
       "      <td>...</td>\n",
       "      <td>68.0</td>\n",
       "      <td>198.0</td>\n",
       "      <td>6.0</td>\n",
       "      <td>1.0</td>\n",
       "      <td>141.0</td>\n",
       "      <td>136.0</td>\n",
       "      <td>140.0</td>\n",
       "      <td>12.0</td>\n",
       "      <td>0.0</td>\n",
       "      <td>1.0</td>\n",
       "    </tr>\n",
       "    <tr>\n",
       "      <th>2</th>\n",
       "      <td>133.0</td>\n",
       "      <td>0.003</td>\n",
       "      <td>0.000</td>\n",
       "      <td>0.008</td>\n",
       "      <td>0.003</td>\n",
       "      <td>0.0</td>\n",
       "      <td>0.0</td>\n",
       "      <td>16.0</td>\n",
       "      <td>2.1</td>\n",
       "      <td>0.0</td>\n",
       "      <td>...</td>\n",
       "      <td>68.0</td>\n",
       "      <td>198.0</td>\n",
       "      <td>5.0</td>\n",
       "      <td>1.0</td>\n",
       "      <td>141.0</td>\n",
       "      <td>135.0</td>\n",
       "      <td>138.0</td>\n",
       "      <td>13.0</td>\n",
       "      <td>0.0</td>\n",
       "      <td>1.0</td>\n",
       "    </tr>\n",
       "    <tr>\n",
       "      <th>3</th>\n",
       "      <td>134.0</td>\n",
       "      <td>0.003</td>\n",
       "      <td>0.000</td>\n",
       "      <td>0.008</td>\n",
       "      <td>0.003</td>\n",
       "      <td>0.0</td>\n",
       "      <td>0.0</td>\n",
       "      <td>16.0</td>\n",
       "      <td>2.4</td>\n",
       "      <td>0.0</td>\n",
       "      <td>...</td>\n",
       "      <td>53.0</td>\n",
       "      <td>170.0</td>\n",
       "      <td>11.0</td>\n",
       "      <td>0.0</td>\n",
       "      <td>137.0</td>\n",
       "      <td>134.0</td>\n",
       "      <td>137.0</td>\n",
       "      <td>13.0</td>\n",
       "      <td>1.0</td>\n",
       "      <td>1.0</td>\n",
       "    </tr>\n",
       "    <tr>\n",
       "      <th>4</th>\n",
       "      <td>132.0</td>\n",
       "      <td>0.007</td>\n",
       "      <td>0.000</td>\n",
       "      <td>0.008</td>\n",
       "      <td>0.000</td>\n",
       "      <td>0.0</td>\n",
       "      <td>0.0</td>\n",
       "      <td>16.0</td>\n",
       "      <td>2.4</td>\n",
       "      <td>0.0</td>\n",
       "      <td>...</td>\n",
       "      <td>53.0</td>\n",
       "      <td>170.0</td>\n",
       "      <td>9.0</td>\n",
       "      <td>0.0</td>\n",
       "      <td>137.0</td>\n",
       "      <td>136.0</td>\n",
       "      <td>138.0</td>\n",
       "      <td>11.0</td>\n",
       "      <td>1.0</td>\n",
       "      <td>1.0</td>\n",
       "    </tr>\n",
       "    <tr>\n",
       "      <th>...</th>\n",
       "      <td>...</td>\n",
       "      <td>...</td>\n",
       "      <td>...</td>\n",
       "      <td>...</td>\n",
       "      <td>...</td>\n",
       "      <td>...</td>\n",
       "      <td>...</td>\n",
       "      <td>...</td>\n",
       "      <td>...</td>\n",
       "      <td>...</td>\n",
       "      <td>...</td>\n",
       "      <td>...</td>\n",
       "      <td>...</td>\n",
       "      <td>...</td>\n",
       "      <td>...</td>\n",
       "      <td>...</td>\n",
       "      <td>...</td>\n",
       "      <td>...</td>\n",
       "      <td>...</td>\n",
       "      <td>...</td>\n",
       "      <td>...</td>\n",
       "    </tr>\n",
       "    <tr>\n",
       "      <th>2121</th>\n",
       "      <td>140.0</td>\n",
       "      <td>0.000</td>\n",
       "      <td>0.000</td>\n",
       "      <td>0.007</td>\n",
       "      <td>0.000</td>\n",
       "      <td>0.0</td>\n",
       "      <td>0.0</td>\n",
       "      <td>79.0</td>\n",
       "      <td>0.2</td>\n",
       "      <td>25.0</td>\n",
       "      <td>...</td>\n",
       "      <td>137.0</td>\n",
       "      <td>177.0</td>\n",
       "      <td>4.0</td>\n",
       "      <td>0.0</td>\n",
       "      <td>153.0</td>\n",
       "      <td>150.0</td>\n",
       "      <td>152.0</td>\n",
       "      <td>2.0</td>\n",
       "      <td>0.0</td>\n",
       "      <td>2.0</td>\n",
       "    </tr>\n",
       "    <tr>\n",
       "      <th>2122</th>\n",
       "      <td>140.0</td>\n",
       "      <td>0.001</td>\n",
       "      <td>0.000</td>\n",
       "      <td>0.007</td>\n",
       "      <td>0.000</td>\n",
       "      <td>0.0</td>\n",
       "      <td>0.0</td>\n",
       "      <td>78.0</td>\n",
       "      <td>0.4</td>\n",
       "      <td>22.0</td>\n",
       "      <td>...</td>\n",
       "      <td>103.0</td>\n",
       "      <td>169.0</td>\n",
       "      <td>6.0</td>\n",
       "      <td>0.0</td>\n",
       "      <td>152.0</td>\n",
       "      <td>148.0</td>\n",
       "      <td>151.0</td>\n",
       "      <td>3.0</td>\n",
       "      <td>1.0</td>\n",
       "      <td>2.0</td>\n",
       "    </tr>\n",
       "    <tr>\n",
       "      <th>2123</th>\n",
       "      <td>140.0</td>\n",
       "      <td>0.001</td>\n",
       "      <td>0.000</td>\n",
       "      <td>0.007</td>\n",
       "      <td>0.000</td>\n",
       "      <td>0.0</td>\n",
       "      <td>0.0</td>\n",
       "      <td>79.0</td>\n",
       "      <td>0.4</td>\n",
       "      <td>20.0</td>\n",
       "      <td>...</td>\n",
       "      <td>103.0</td>\n",
       "      <td>170.0</td>\n",
       "      <td>5.0</td>\n",
       "      <td>0.0</td>\n",
       "      <td>153.0</td>\n",
       "      <td>148.0</td>\n",
       "      <td>152.0</td>\n",
       "      <td>4.0</td>\n",
       "      <td>1.0</td>\n",
       "      <td>2.0</td>\n",
       "    </tr>\n",
       "    <tr>\n",
       "      <th>2124</th>\n",
       "      <td>140.0</td>\n",
       "      <td>0.001</td>\n",
       "      <td>0.000</td>\n",
       "      <td>0.006</td>\n",
       "      <td>0.000</td>\n",
       "      <td>0.0</td>\n",
       "      <td>0.0</td>\n",
       "      <td>78.0</td>\n",
       "      <td>0.4</td>\n",
       "      <td>27.0</td>\n",
       "      <td>...</td>\n",
       "      <td>103.0</td>\n",
       "      <td>169.0</td>\n",
       "      <td>6.0</td>\n",
       "      <td>0.0</td>\n",
       "      <td>152.0</td>\n",
       "      <td>147.0</td>\n",
       "      <td>151.0</td>\n",
       "      <td>4.0</td>\n",
       "      <td>1.0</td>\n",
       "      <td>2.0</td>\n",
       "    </tr>\n",
       "    <tr>\n",
       "      <th>2125</th>\n",
       "      <td>142.0</td>\n",
       "      <td>0.002</td>\n",
       "      <td>0.002</td>\n",
       "      <td>0.008</td>\n",
       "      <td>0.000</td>\n",
       "      <td>0.0</td>\n",
       "      <td>0.0</td>\n",
       "      <td>74.0</td>\n",
       "      <td>0.4</td>\n",
       "      <td>36.0</td>\n",
       "      <td>...</td>\n",
       "      <td>117.0</td>\n",
       "      <td>159.0</td>\n",
       "      <td>2.0</td>\n",
       "      <td>1.0</td>\n",
       "      <td>145.0</td>\n",
       "      <td>143.0</td>\n",
       "      <td>145.0</td>\n",
       "      <td>1.0</td>\n",
       "      <td>0.0</td>\n",
       "      <td>1.0</td>\n",
       "    </tr>\n",
       "  </tbody>\n",
       "</table>\n",
       "<p>2126 rows × 22 columns</p>\n",
       "</div>"
      ],
      "text/plain": [
       "      baseline value  accelerations  fetal_movement  uterine_contractions   \n",
       "0              120.0          0.000           0.000                 0.000  \\\n",
       "1              132.0          0.006           0.000                 0.006   \n",
       "2              133.0          0.003           0.000                 0.008   \n",
       "3              134.0          0.003           0.000                 0.008   \n",
       "4              132.0          0.007           0.000                 0.008   \n",
       "...              ...            ...             ...                   ...   \n",
       "2121           140.0          0.000           0.000                 0.007   \n",
       "2122           140.0          0.001           0.000                 0.007   \n",
       "2123           140.0          0.001           0.000                 0.007   \n",
       "2124           140.0          0.001           0.000                 0.006   \n",
       "2125           142.0          0.002           0.002                 0.008   \n",
       "\n",
       "      light_decelerations  severe_decelerations  prolongued_decelerations   \n",
       "0                   0.000                   0.0                       0.0  \\\n",
       "1                   0.003                   0.0                       0.0   \n",
       "2                   0.003                   0.0                       0.0   \n",
       "3                   0.003                   0.0                       0.0   \n",
       "4                   0.000                   0.0                       0.0   \n",
       "...                   ...                   ...                       ...   \n",
       "2121                0.000                   0.0                       0.0   \n",
       "2122                0.000                   0.0                       0.0   \n",
       "2123                0.000                   0.0                       0.0   \n",
       "2124                0.000                   0.0                       0.0   \n",
       "2125                0.000                   0.0                       0.0   \n",
       "\n",
       "      abnormal_short_term_variability  mean_value_of_short_term_variability   \n",
       "0                                73.0                                   0.5  \\\n",
       "1                                17.0                                   2.1   \n",
       "2                                16.0                                   2.1   \n",
       "3                                16.0                                   2.4   \n",
       "4                                16.0                                   2.4   \n",
       "...                               ...                                   ...   \n",
       "2121                             79.0                                   0.2   \n",
       "2122                             78.0                                   0.4   \n",
       "2123                             79.0                                   0.4   \n",
       "2124                             78.0                                   0.4   \n",
       "2125                             74.0                                   0.4   \n",
       "\n",
       "      percentage_of_time_with_abnormal_long_term_variability  ...   \n",
       "0                                                  43.0       ...  \\\n",
       "1                                                   0.0       ...   \n",
       "2                                                   0.0       ...   \n",
       "3                                                   0.0       ...   \n",
       "4                                                   0.0       ...   \n",
       "...                                                 ...       ...   \n",
       "2121                                               25.0       ...   \n",
       "2122                                               22.0       ...   \n",
       "2123                                               20.0       ...   \n",
       "2124                                               27.0       ...   \n",
       "2125                                               36.0       ...   \n",
       "\n",
       "      histogram_min  histogram_max  histogram_number_of_peaks   \n",
       "0              62.0          126.0                        2.0  \\\n",
       "1              68.0          198.0                        6.0   \n",
       "2              68.0          198.0                        5.0   \n",
       "3              53.0          170.0                       11.0   \n",
       "4              53.0          170.0                        9.0   \n",
       "...             ...            ...                        ...   \n",
       "2121          137.0          177.0                        4.0   \n",
       "2122          103.0          169.0                        6.0   \n",
       "2123          103.0          170.0                        5.0   \n",
       "2124          103.0          169.0                        6.0   \n",
       "2125          117.0          159.0                        2.0   \n",
       "\n",
       "      histogram_number_of_zeroes  histogram_mode  histogram_mean   \n",
       "0                            0.0           120.0           137.0  \\\n",
       "1                            1.0           141.0           136.0   \n",
       "2                            1.0           141.0           135.0   \n",
       "3                            0.0           137.0           134.0   \n",
       "4                            0.0           137.0           136.0   \n",
       "...                          ...             ...             ...   \n",
       "2121                         0.0           153.0           150.0   \n",
       "2122                         0.0           152.0           148.0   \n",
       "2123                         0.0           153.0           148.0   \n",
       "2124                         0.0           152.0           147.0   \n",
       "2125                         1.0           145.0           143.0   \n",
       "\n",
       "      histogram_median  histogram_variance  histogram_tendency  fetal_health  \n",
       "0                121.0                73.0                 1.0           2.0  \n",
       "1                140.0                12.0                 0.0           1.0  \n",
       "2                138.0                13.0                 0.0           1.0  \n",
       "3                137.0                13.0                 1.0           1.0  \n",
       "4                138.0                11.0                 1.0           1.0  \n",
       "...                ...                 ...                 ...           ...  \n",
       "2121             152.0                 2.0                 0.0           2.0  \n",
       "2122             151.0                 3.0                 1.0           2.0  \n",
       "2123             152.0                 4.0                 1.0           2.0  \n",
       "2124             151.0                 4.0                 1.0           2.0  \n",
       "2125             145.0                 1.0                 0.0           1.0  \n",
       "\n",
       "[2126 rows x 22 columns]"
      ]
     },
     "execution_count": 3,
     "metadata": {},
     "output_type": "execute_result"
    }
   ],
   "source": [
    "df"
   ]
  },
  {
   "cell_type": "code",
   "execution_count": 4,
   "id": "e713edbd",
   "metadata": {},
   "outputs": [],
   "source": [
    "import sklearn.linear_model as linear_model"
   ]
  },
  {
   "cell_type": "markdown",
   "id": "d8dbc7a6",
   "metadata": {},
   "source": [
    "- Extracting feature matix AND labels"
   ]
  },
  {
   "cell_type": "code",
   "execution_count": 5,
   "id": "98a6d523",
   "metadata": {},
   "outputs": [],
   "source": [
    "X = df[['baseline value', 'accelerations', 'fetal_movement', 'uterine_contractions', 'light_decelerations', 'severe_decelerations', 'prolongued_decelerations', 'abnormal_short_term_variability', 'mean_value_of_short_term_variability', 'percentage_of_time_with_abnormal_long_term_variability', 'mean_value_of_long_term_variability', 'histogram_width', 'histogram_min', 'histogram_max', 'histogram_number_of_peaks', 'histogram_number_of_zeroes', 'histogram_mode', 'histogram_mean', 'histogram_median', 'histogram_variance', 'histogram_tendency']].to_numpy()"
   ]
  },
  {
   "cell_type": "code",
   "execution_count": 6,
   "id": "72c9e7c3",
   "metadata": {},
   "outputs": [],
   "source": [
    "y = df['fetal_health'].to_numpy()\n"
   ]
  },
  {
   "cell_type": "markdown",
   "id": "d822c7cd",
   "metadata": {},
   "source": [
    "- Scale the data"
   ]
  },
  {
   "cell_type": "code",
   "execution_count": 7,
   "id": "f23e0cf8",
   "metadata": {},
   "outputs": [],
   "source": [
    "from sklearn.preprocessing import StandardScaler"
   ]
  },
  {
   "cell_type": "code",
   "execution_count": 8,
   "id": "9def28a0",
   "metadata": {},
   "outputs": [],
   "source": [
    "scaler = StandardScaler()"
   ]
  },
  {
   "cell_type": "code",
   "execution_count": 9,
   "id": "6b581739",
   "metadata": {},
   "outputs": [],
   "source": [
    "X = scaler.fit_transform(X)"
   ]
  },
  {
   "cell_type": "markdown",
   "id": "653c36b2",
   "metadata": {},
   "source": [
    "- Build the model"
   ]
  },
  {
   "cell_type": "code",
   "execution_count": 10,
   "id": "7d677721",
   "metadata": {},
   "outputs": [],
   "source": [
    "model = linear_model.LogisticRegression(penalty=None, max_iter=1000)"
   ]
  },
  {
   "cell_type": "markdown",
   "id": "7659016e",
   "metadata": {},
   "source": [
    "- fine-tune the parameters of the model"
   ]
  },
  {
   "cell_type": "code",
   "execution_count": 11,
   "id": "5646183b",
   "metadata": {},
   "outputs": [
    {
     "data": {
      "text/html": [
       "<style>#sk-container-id-1 {color: black;background-color: white;}#sk-container-id-1 pre{padding: 0;}#sk-container-id-1 div.sk-toggleable {background-color: white;}#sk-container-id-1 label.sk-toggleable__label {cursor: pointer;display: block;width: 100%;margin-bottom: 0;padding: 0.3em;box-sizing: border-box;text-align: center;}#sk-container-id-1 label.sk-toggleable__label-arrow:before {content: \"▸\";float: left;margin-right: 0.25em;color: #696969;}#sk-container-id-1 label.sk-toggleable__label-arrow:hover:before {color: black;}#sk-container-id-1 div.sk-estimator:hover label.sk-toggleable__label-arrow:before {color: black;}#sk-container-id-1 div.sk-toggleable__content {max-height: 0;max-width: 0;overflow: hidden;text-align: left;background-color: #f0f8ff;}#sk-container-id-1 div.sk-toggleable__content pre {margin: 0.2em;color: black;border-radius: 0.25em;background-color: #f0f8ff;}#sk-container-id-1 input.sk-toggleable__control:checked~div.sk-toggleable__content {max-height: 200px;max-width: 100%;overflow: auto;}#sk-container-id-1 input.sk-toggleable__control:checked~label.sk-toggleable__label-arrow:before {content: \"▾\";}#sk-container-id-1 div.sk-estimator input.sk-toggleable__control:checked~label.sk-toggleable__label {background-color: #d4ebff;}#sk-container-id-1 div.sk-label input.sk-toggleable__control:checked~label.sk-toggleable__label {background-color: #d4ebff;}#sk-container-id-1 input.sk-hidden--visually {border: 0;clip: rect(1px 1px 1px 1px);clip: rect(1px, 1px, 1px, 1px);height: 1px;margin: -1px;overflow: hidden;padding: 0;position: absolute;width: 1px;}#sk-container-id-1 div.sk-estimator {font-family: monospace;background-color: #f0f8ff;border: 1px dotted black;border-radius: 0.25em;box-sizing: border-box;margin-bottom: 0.5em;}#sk-container-id-1 div.sk-estimator:hover {background-color: #d4ebff;}#sk-container-id-1 div.sk-parallel-item::after {content: \"\";width: 100%;border-bottom: 1px solid gray;flex-grow: 1;}#sk-container-id-1 div.sk-label:hover label.sk-toggleable__label {background-color: #d4ebff;}#sk-container-id-1 div.sk-serial::before {content: \"\";position: absolute;border-left: 1px solid gray;box-sizing: border-box;top: 0;bottom: 0;left: 50%;z-index: 0;}#sk-container-id-1 div.sk-serial {display: flex;flex-direction: column;align-items: center;background-color: white;padding-right: 0.2em;padding-left: 0.2em;position: relative;}#sk-container-id-1 div.sk-item {position: relative;z-index: 1;}#sk-container-id-1 div.sk-parallel {display: flex;align-items: stretch;justify-content: center;background-color: white;position: relative;}#sk-container-id-1 div.sk-item::before, #sk-container-id-1 div.sk-parallel-item::before {content: \"\";position: absolute;border-left: 1px solid gray;box-sizing: border-box;top: 0;bottom: 0;left: 50%;z-index: -1;}#sk-container-id-1 div.sk-parallel-item {display: flex;flex-direction: column;z-index: 1;position: relative;background-color: white;}#sk-container-id-1 div.sk-parallel-item:first-child::after {align-self: flex-end;width: 50%;}#sk-container-id-1 div.sk-parallel-item:last-child::after {align-self: flex-start;width: 50%;}#sk-container-id-1 div.sk-parallel-item:only-child::after {width: 0;}#sk-container-id-1 div.sk-dashed-wrapped {border: 1px dashed gray;margin: 0 0.4em 0.5em 0.4em;box-sizing: border-box;padding-bottom: 0.4em;background-color: white;}#sk-container-id-1 div.sk-label label {font-family: monospace;font-weight: bold;display: inline-block;line-height: 1.2em;}#sk-container-id-1 div.sk-label-container {text-align: center;}#sk-container-id-1 div.sk-container {/* jupyter's `normalize.less` sets `[hidden] { display: none; }` but bootstrap.min.css set `[hidden] { display: none !important; }` so we also need the `!important` here to be able to override the default hidden behavior on the sphinx rendered scikit-learn.org. See: https://github.com/scikit-learn/scikit-learn/issues/21755 */display: inline-block !important;position: relative;}#sk-container-id-1 div.sk-text-repr-fallback {display: none;}</style><div id=\"sk-container-id-1\" class=\"sk-top-container\"><div class=\"sk-text-repr-fallback\"><pre>LogisticRegression(max_iter=1000, penalty=None)</pre><b>In a Jupyter environment, please rerun this cell to show the HTML representation or trust the notebook. <br />On GitHub, the HTML representation is unable to render, please try loading this page with nbviewer.org.</b></div><div class=\"sk-container\" hidden><div class=\"sk-item\"><div class=\"sk-estimator sk-toggleable\"><input class=\"sk-toggleable__control sk-hidden--visually\" id=\"sk-estimator-id-1\" type=\"checkbox\" checked><label for=\"sk-estimator-id-1\" class=\"sk-toggleable__label sk-toggleable__label-arrow\">LogisticRegression</label><div class=\"sk-toggleable__content\"><pre>LogisticRegression(max_iter=1000, penalty=None)</pre></div></div></div></div></div>"
      ],
      "text/plain": [
       "LogisticRegression(max_iter=1000, penalty=None)"
      ]
     },
     "execution_count": 11,
     "metadata": {},
     "output_type": "execute_result"
    }
   ],
   "source": [
    "model.fit(X, y)"
   ]
  },
  {
   "cell_type": "code",
   "execution_count": 12,
   "id": "831958eb",
   "metadata": {},
   "outputs": [
    {
     "data": {
      "text/plain": [
       "array([[-0.4722165 ,  2.6097982 , -0.48119269,  0.58733227, -0.03972252,\n",
       "         0.10931137, -1.0126092 , -1.57566747,  0.47080935, -0.62194699,\n",
       "        -0.11713929, -0.06801277, -0.27203531, -0.59578673,  0.33945991,\n",
       "        -0.16132638,  0.66721393, -1.18473034,  1.24633992, -1.10704851,\n",
       "        -0.17250347],\n",
       "       [-1.58372894, -1.25133427, -0.03830267, -0.19062974, -0.0355457 ,\n",
       "        -0.31044592,  0.44287803, -0.06054587,  0.27267186, -0.18755346,\n",
       "        -0.13249286, -0.10101988,  0.0985888 , -0.05689831,  0.74545955,\n",
       "        -0.20479037, -0.56184819,  3.30165058,  0.47907886,  0.11919842,\n",
       "        -0.00888334],\n",
       "       [ 2.05594545, -1.35846393,  0.51949536, -0.39670253,  0.07526823,\n",
       "         0.20113455,  0.56973118,  1.63621334, -0.74348121,  0.80950045,\n",
       "         0.24963215,  0.16903265,  0.17344652,  0.65268503, -1.08491946,\n",
       "         0.36611675, -0.10536574, -2.11692024, -1.72541878,  0.98785009,\n",
       "         0.18138681]])"
      ]
     },
     "execution_count": 12,
     "metadata": {},
     "output_type": "execute_result"
    }
   ],
   "source": [
    "model.coef_"
   ]
  },
  {
   "cell_type": "code",
   "execution_count": 13,
   "id": "5fa92edc",
   "metadata": {},
   "outputs": [
    {
     "data": {
      "text/plain": [
       "array([ 5.27738278,  0.55617692, -5.8335597 ])"
      ]
     },
     "execution_count": 13,
     "metadata": {},
     "output_type": "execute_result"
    }
   ],
   "source": [
    "model.intercept_"
   ]
  },
  {
   "cell_type": "code",
   "execution_count": 14,
   "id": "25a3fa03",
   "metadata": {
    "scrolled": false
   },
   "outputs": [
    {
     "data": {
      "text/plain": [
       "array([2., 1., 1., ..., 2., 2., 1.])"
      ]
     },
     "execution_count": 14,
     "metadata": {},
     "output_type": "execute_result"
    }
   ],
   "source": [
    "model.predict(X)"
   ]
  },
  {
   "cell_type": "markdown",
   "id": "81d9ff33",
   "metadata": {},
   "source": [
    "- seperate training and test set\n",
    "\n"
   ]
  },
  {
   "cell_type": "code",
   "execution_count": 15,
   "id": "10f93d36",
   "metadata": {},
   "outputs": [],
   "source": [
    "import sklearn.model_selection as model_selection"
   ]
  },
  {
   "cell_type": "code",
   "execution_count": 16,
   "id": "5f74a1d2",
   "metadata": {},
   "outputs": [],
   "source": [
    "X_train, X_test, y_train, y_test= model_selection.train_test_split(X, y, test_size=.2, random_state = 3)"
   ]
  },
  {
   "cell_type": "markdown",
   "id": "d95953e7",
   "metadata": {},
   "source": [
    "- test_size=.2 mean test set is 20%"
   ]
  },
  {
   "cell_type": "code",
   "execution_count": 17,
   "id": "b8183880",
   "metadata": {},
   "outputs": [],
   "source": [
    "model = linear_model.LogisticRegression(penalty=None, verbose=True, max_iter = 1000)"
   ]
  },
  {
   "cell_type": "code",
   "execution_count": 18,
   "id": "339d755f",
   "metadata": {},
   "outputs": [
    {
     "name": "stdout",
     "output_type": "stream",
     "text": [
      "RUNNING THE L-BFGS-B CODE\n",
      "\n",
      "           * * *\n",
      "\n",
      "Machine precision = 2.220D-16\n",
      " N =           66     M =           10\n",
      "\n",
      "At X0         0 variables are exactly at the bounds\n",
      "\n",
      "At iterate    0    f=  1.86764D+03    |proj g|=  7.45333D+02\n",
      "\n",
      "At iterate   50    f=  3.64012D+02    |proj g|=  4.47326D-01\n",
      "\n",
      "At iterate  100    f=  3.63735D+02    |proj g|=  5.10880D-02\n",
      "\n",
      "           * * *\n",
      "\n",
      "Tit   = total number of iterations\n",
      "Tnf   = total number of function evaluations\n",
      "Tnint = total number of segments explored during Cauchy searches\n",
      "Skip  = number of BFGS updates skipped\n",
      "Nact  = number of active bounds at final generalized Cauchy point\n",
      "Projg = norm of the final projected gradient\n",
      "F     = final function value\n",
      "\n",
      "           * * *\n",
      "\n",
      "   N    Tit     Tnf  Tnint  Skip  Nact     Projg        F\n",
      "   66    144    159      1     0     0   3.370D-03   3.637D+02\n",
      "  F =   363.73315767038309     \n",
      "\n",
      "CONVERGENCE: REL_REDUCTION_OF_F_<=_FACTR*EPSMCH             \n"
     ]
    },
    {
     "name": "stderr",
     "output_type": "stream",
     "text": [
      "[Parallel(n_jobs=1)]: Using backend SequentialBackend with 1 concurrent workers.\n",
      " This problem is unconstrained.\n",
      "[Parallel(n_jobs=1)]: Done   1 out of   1 | elapsed:    0.1s finished\n"
     ]
    },
    {
     "data": {
      "text/html": [
       "<style>#sk-container-id-2 {color: black;background-color: white;}#sk-container-id-2 pre{padding: 0;}#sk-container-id-2 div.sk-toggleable {background-color: white;}#sk-container-id-2 label.sk-toggleable__label {cursor: pointer;display: block;width: 100%;margin-bottom: 0;padding: 0.3em;box-sizing: border-box;text-align: center;}#sk-container-id-2 label.sk-toggleable__label-arrow:before {content: \"▸\";float: left;margin-right: 0.25em;color: #696969;}#sk-container-id-2 label.sk-toggleable__label-arrow:hover:before {color: black;}#sk-container-id-2 div.sk-estimator:hover label.sk-toggleable__label-arrow:before {color: black;}#sk-container-id-2 div.sk-toggleable__content {max-height: 0;max-width: 0;overflow: hidden;text-align: left;background-color: #f0f8ff;}#sk-container-id-2 div.sk-toggleable__content pre {margin: 0.2em;color: black;border-radius: 0.25em;background-color: #f0f8ff;}#sk-container-id-2 input.sk-toggleable__control:checked~div.sk-toggleable__content {max-height: 200px;max-width: 100%;overflow: auto;}#sk-container-id-2 input.sk-toggleable__control:checked~label.sk-toggleable__label-arrow:before {content: \"▾\";}#sk-container-id-2 div.sk-estimator input.sk-toggleable__control:checked~label.sk-toggleable__label {background-color: #d4ebff;}#sk-container-id-2 div.sk-label input.sk-toggleable__control:checked~label.sk-toggleable__label {background-color: #d4ebff;}#sk-container-id-2 input.sk-hidden--visually {border: 0;clip: rect(1px 1px 1px 1px);clip: rect(1px, 1px, 1px, 1px);height: 1px;margin: -1px;overflow: hidden;padding: 0;position: absolute;width: 1px;}#sk-container-id-2 div.sk-estimator {font-family: monospace;background-color: #f0f8ff;border: 1px dotted black;border-radius: 0.25em;box-sizing: border-box;margin-bottom: 0.5em;}#sk-container-id-2 div.sk-estimator:hover {background-color: #d4ebff;}#sk-container-id-2 div.sk-parallel-item::after {content: \"\";width: 100%;border-bottom: 1px solid gray;flex-grow: 1;}#sk-container-id-2 div.sk-label:hover label.sk-toggleable__label {background-color: #d4ebff;}#sk-container-id-2 div.sk-serial::before {content: \"\";position: absolute;border-left: 1px solid gray;box-sizing: border-box;top: 0;bottom: 0;left: 50%;z-index: 0;}#sk-container-id-2 div.sk-serial {display: flex;flex-direction: column;align-items: center;background-color: white;padding-right: 0.2em;padding-left: 0.2em;position: relative;}#sk-container-id-2 div.sk-item {position: relative;z-index: 1;}#sk-container-id-2 div.sk-parallel {display: flex;align-items: stretch;justify-content: center;background-color: white;position: relative;}#sk-container-id-2 div.sk-item::before, #sk-container-id-2 div.sk-parallel-item::before {content: \"\";position: absolute;border-left: 1px solid gray;box-sizing: border-box;top: 0;bottom: 0;left: 50%;z-index: -1;}#sk-container-id-2 div.sk-parallel-item {display: flex;flex-direction: column;z-index: 1;position: relative;background-color: white;}#sk-container-id-2 div.sk-parallel-item:first-child::after {align-self: flex-end;width: 50%;}#sk-container-id-2 div.sk-parallel-item:last-child::after {align-self: flex-start;width: 50%;}#sk-container-id-2 div.sk-parallel-item:only-child::after {width: 0;}#sk-container-id-2 div.sk-dashed-wrapped {border: 1px dashed gray;margin: 0 0.4em 0.5em 0.4em;box-sizing: border-box;padding-bottom: 0.4em;background-color: white;}#sk-container-id-2 div.sk-label label {font-family: monospace;font-weight: bold;display: inline-block;line-height: 1.2em;}#sk-container-id-2 div.sk-label-container {text-align: center;}#sk-container-id-2 div.sk-container {/* jupyter's `normalize.less` sets `[hidden] { display: none; }` but bootstrap.min.css set `[hidden] { display: none !important; }` so we also need the `!important` here to be able to override the default hidden behavior on the sphinx rendered scikit-learn.org. See: https://github.com/scikit-learn/scikit-learn/issues/21755 */display: inline-block !important;position: relative;}#sk-container-id-2 div.sk-text-repr-fallback {display: none;}</style><div id=\"sk-container-id-2\" class=\"sk-top-container\"><div class=\"sk-text-repr-fallback\"><pre>LogisticRegression(max_iter=1000, penalty=None, verbose=True)</pre><b>In a Jupyter environment, please rerun this cell to show the HTML representation or trust the notebook. <br />On GitHub, the HTML representation is unable to render, please try loading this page with nbviewer.org.</b></div><div class=\"sk-container\" hidden><div class=\"sk-item\"><div class=\"sk-estimator sk-toggleable\"><input class=\"sk-toggleable__control sk-hidden--visually\" id=\"sk-estimator-id-2\" type=\"checkbox\" checked><label for=\"sk-estimator-id-2\" class=\"sk-toggleable__label sk-toggleable__label-arrow\">LogisticRegression</label><div class=\"sk-toggleable__content\"><pre>LogisticRegression(max_iter=1000, penalty=None, verbose=True)</pre></div></div></div></div></div>"
      ],
      "text/plain": [
       "LogisticRegression(max_iter=1000, penalty=None, verbose=True)"
      ]
     },
     "execution_count": 18,
     "metadata": {},
     "output_type": "execute_result"
    }
   ],
   "source": [
    "model.fit(X_train, y_train)"
   ]
  },
  {
   "cell_type": "code",
   "execution_count": 19,
   "id": "4076fc50",
   "metadata": {},
   "outputs": [
    {
     "data": {
      "text/plain": [
       "array([[-0.36314969,  2.6322128 , -0.37443783,  0.54805964, -0.0333433 ,\n",
       "        -0.37918146, -1.11334223, -1.52076086,  0.53002473, -0.6475739 ,\n",
       "        -0.03345718, -0.09384227, -0.21181874, -0.55266365,  0.25417735,\n",
       "        -0.1387648 ,  0.6234357 , -1.39005235,  1.31166008, -1.11119412,\n",
       "        -0.19704125],\n",
       "       [-1.50163326, -1.27216354, -0.12016439, -0.18824723, -0.07053437,\n",
       "        -0.11147429,  0.52080784,  0.00770881,  0.32372016, -0.21890769,\n",
       "        -0.07852998, -0.10269462,  0.04486813, -0.1490304 ,  0.79937604,\n",
       "        -0.20562459, -0.63079992,  3.64295485,  0.29436588,  0.14433278,\n",
       "        -0.13405403],\n",
       "       [ 1.86478295, -1.36004926,  0.49460222, -0.35981241,  0.10387767,\n",
       "         0.49065575,  0.59253439,  1.51305205, -0.85374489,  0.86648159,\n",
       "         0.11198716,  0.19653689,  0.16695062,  0.70169405, -1.05355338,\n",
       "         0.3443894 ,  0.00736422, -2.2529025 , -1.60602596,  0.96686134,\n",
       "         0.33109528]])"
      ]
     },
     "execution_count": 19,
     "metadata": {},
     "output_type": "execute_result"
    }
   ],
   "source": [
    "model.coef_"
   ]
  },
  {
   "cell_type": "code",
   "execution_count": 20,
   "id": "06049191",
   "metadata": {},
   "outputs": [
    {
     "data": {
      "text/plain": [
       "array([ 5.18810553,  0.52489333, -5.71299886])"
      ]
     },
     "execution_count": 20,
     "metadata": {},
     "output_type": "execute_result"
    }
   ],
   "source": [
    "model.intercept_"
   ]
  },
  {
   "cell_type": "code",
   "execution_count": 21,
   "id": "4470112a",
   "metadata": {},
   "outputs": [
    {
     "data": {
      "text/plain": [
       "array([1., 1., 1., 1., 3., 1., 1., 3., 1., 1., 2., 1., 1., 1., 1., 1., 1.,\n",
       "       1., 1., 1., 2., 1., 1., 1., 1., 1., 1., 1., 3., 1., 1., 1., 1., 1.,\n",
       "       2., 1., 1., 1., 1., 1., 3., 1., 1., 1., 1., 2., 1., 2., 1., 1., 1.,\n",
       "       2., 1., 1., 1., 1., 1., 1., 1., 1., 1., 1., 1., 1., 1., 1., 1., 1.,\n",
       "       1., 3., 2., 1., 1., 1., 1., 3., 2., 1., 3., 1., 1., 1., 1., 2., 1.,\n",
       "       3., 2., 1., 2., 1., 1., 1., 1., 1., 1., 1., 1., 1., 1., 1., 1., 2.,\n",
       "       1., 1., 1., 1., 1., 1., 1., 2., 1., 1., 1., 1., 2., 1., 1., 1., 1.,\n",
       "       3., 2., 3., 1., 1., 1., 2., 3., 1., 1., 1., 1., 1., 1., 1., 2., 1.,\n",
       "       1., 2., 3., 1., 1., 1., 1., 1., 3., 1., 2., 2., 1., 1., 1., 3., 1.,\n",
       "       2., 1., 1., 1., 1., 3., 1., 1., 3., 1., 1., 1., 1., 1., 1., 1., 3.,\n",
       "       1., 1., 3., 1., 1., 1., 1., 1., 1., 1., 1., 2., 1., 1., 1., 1., 1.,\n",
       "       1., 1., 1., 2., 1., 2., 1., 1., 1., 1., 1., 1., 1., 1., 3., 1., 3.,\n",
       "       2., 1., 1., 1., 1., 1., 1., 1., 2., 1., 1., 3., 1., 1., 1., 1., 1.,\n",
       "       1., 3., 1., 1., 1., 1., 1., 1., 1., 1., 1., 2., 1., 1., 1., 1., 1.,\n",
       "       1., 1., 1., 1., 1., 1., 1., 1., 1., 1., 1., 1., 2., 3., 1., 1., 1.,\n",
       "       1., 1., 1., 1., 1., 2., 2., 1., 1., 1., 1., 1., 1., 1., 1., 1., 1.,\n",
       "       1., 1., 1., 3., 3., 3., 1., 1., 2., 2., 1., 1., 1., 1., 1., 2., 1.,\n",
       "       1., 2., 1., 1., 2., 1., 1., 1., 1., 1., 1., 1., 2., 2., 1., 1., 2.,\n",
       "       1., 1., 1., 2., 1., 1., 1., 1., 1., 1., 2., 1., 1., 1., 1., 3., 1.,\n",
       "       1., 1., 2., 1., 1., 1., 1., 1., 1., 1., 1., 2., 2., 1., 3., 1., 1.,\n",
       "       1., 1., 1., 1., 1., 2., 1., 1., 1., 1., 2., 1., 1., 1., 1., 1., 1.,\n",
       "       2., 1., 1., 1., 1., 1., 1., 1., 1., 2., 1., 1., 1., 1., 1., 1., 1.,\n",
       "       1., 2., 1., 1., 1., 1., 1., 1., 2., 1., 1., 1., 3., 2., 1., 1., 1.,\n",
       "       3., 1., 1., 1., 3., 1., 1., 1., 1., 1., 1., 1., 2., 3., 1., 1., 1.,\n",
       "       1., 1., 3., 3., 1., 1., 1., 1., 1., 1., 1., 1., 1., 1., 1., 1., 1.,\n",
       "       2.])"
      ]
     },
     "execution_count": 21,
     "metadata": {},
     "output_type": "execute_result"
    }
   ],
   "source": [
    "y_pred = model.predict(X_test)\n",
    "y_pred"
   ]
  },
  {
   "cell_type": "markdown",
   "id": "a7bd6ca8",
   "metadata": {},
   "source": [
    "y_test"
   ]
  },
  {
   "cell_type": "markdown",
   "id": "28a0fb3d",
   "metadata": {},
   "source": [
    "- Compute performance metrics"
   ]
  },
  {
   "cell_type": "code",
   "execution_count": 22,
   "id": "b661e254",
   "metadata": {},
   "outputs": [],
   "source": [
    "import sklearn.metrics as metrics"
   ]
  },
  {
   "cell_type": "markdown",
   "id": "393a82d7",
   "metadata": {},
   "source": [
    "- Accuracy, Recall, Precision"
   ]
  },
  {
   "cell_type": "code",
   "execution_count": 23,
   "id": "9b3c566f",
   "metadata": {},
   "outputs": [
    {
     "data": {
      "text/plain": [
       "0.8990610328638498"
      ]
     },
     "execution_count": 23,
     "metadata": {},
     "output_type": "execute_result"
    }
   ],
   "source": [
    "metrics.accuracy_score(y_test, y_pred)"
   ]
  },
  {
   "cell_type": "code",
   "execution_count": 24,
   "id": "34c00556",
   "metadata": {},
   "outputs": [
    {
     "data": {
      "text/plain": [
       "0.8990610328638498"
      ]
     },
     "execution_count": 24,
     "metadata": {},
     "output_type": "execute_result"
    }
   ],
   "source": [
    "metrics.recall_score(y_test, y_pred, average='micro')"
   ]
  },
  {
   "cell_type": "markdown",
   "id": "53c7250f",
   "metadata": {},
   "source": [
    "- Confusion Matrix"
   ]
  },
  {
   "cell_type": "code",
   "execution_count": 25,
   "id": "c91cd6aa",
   "metadata": {},
   "outputs": [
    {
     "data": {
      "text/plain": [
       "array([[324,  17,   2],\n",
       "       [ 15,  31,   4],\n",
       "       [  1,   4,  28]])"
      ]
     },
     "execution_count": 25,
     "metadata": {},
     "output_type": "execute_result"
    }
   ],
   "source": [
    "metrics.confusion_matrix(y_test, y_pred)"
   ]
  },
  {
   "cell_type": "code",
   "execution_count": null,
   "id": "8cdccea2",
   "metadata": {},
   "outputs": [],
   "source": []
  }
 ],
 "metadata": {
  "kernelspec": {
   "display_name": "Python 3 (ipykernel)",
   "language": "python",
   "name": "python3"
  },
  "language_info": {
   "codemirror_mode": {
    "name": "ipython",
    "version": 3
   },
   "file_extension": ".py",
   "mimetype": "text/x-python",
   "name": "python",
   "nbconvert_exporter": "python",
   "pygments_lexer": "ipython3",
   "version": "3.11.1"
  }
 },
 "nbformat": 4,
 "nbformat_minor": 5
}
